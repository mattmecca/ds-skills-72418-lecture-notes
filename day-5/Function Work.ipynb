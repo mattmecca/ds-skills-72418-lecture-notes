{
 "cells": [
  {
   "cell_type": "markdown",
   "metadata": {},
   "source": [
    "# Day 5 –– Functions and Variables"
   ]
  },
  {
   "cell_type": "markdown",
   "metadata": {},
   "source": [
    "### Introductions / What does everyone want out of this course?"
   ]
  },
  {
   "cell_type": "markdown",
   "metadata": {},
   "source": [
    "Just wanted to kind of go around real quick and see where everyone is at."
   ]
  },
  {
   "cell_type": "markdown",
   "metadata": {},
   "source": [
    "### Functions"
   ]
  },
  {
   "cell_type": "markdown",
   "metadata": {},
   "source": [
    "I think Jake touched on this the other day, but one thing that we're trying to avoid when coding is repetition. We never want to repeat ourselves. You'll find that writing a function can be frustrating and laborious. Sometimes you'll skip it entirely and muscle your way through whatever is you're trying to accomplish. And sometimes this is doable, but a lot of the times it's not. The larger your datasets get and the more complicated you're process becomes, the more vital function writing is. \n",
    "\n",
    "Functions as a concept shouldn't be foreign to you guys. You've used a lot of them up to this point. Writing your own is the challenge.\n",
    "\n",
    "If you feel like you're bad at first, don't worry. It takes time, and sometimes you'll see that the people that are worst to start become the best as time goes on. At the beginning, it can come down to overthinking it."
   ]
  },
  {
   "cell_type": "markdown",
   "metadata": {},
   "source": [
    "### Importing Libraries"
   ]
  },
  {
   "cell_type": "code",
   "execution_count": 11,
   "metadata": {},
   "outputs": [],
   "source": [
    "import pandas as pd\n",
    "import numpy as np"
   ]
  },
  {
   "cell_type": "markdown",
   "metadata": {},
   "source": [
    "### Writing your own Simple Function"
   ]
  },
  {
   "cell_type": "code",
   "execution_count": 12,
   "metadata": {},
   "outputs": [],
   "source": [
    "def function(argument):\n",
    "    \"\"\"Description of what your function does\"\"\"\n",
    "    local_variable = argument + ' is our argument' # Local, local, local\n",
    "    print(local_variable)\n",
    "    "
   ]
  },
  {
   "cell_type": "code",
   "execution_count": 3,
   "metadata": {},
   "outputs": [
    {
     "name": "stdout",
     "output_type": "stream",
     "text": [
      "egg is our argument\n"
     ]
    }
   ],
   "source": [
    "function('egg')"
   ]
  },
  {
   "cell_type": "markdown",
   "metadata": {},
   "source": [
    "### Scope and what it means"
   ]
  },
  {
   "cell_type": "markdown",
   "metadata": {},
   "source": [
    "We see that our **local_variable** is, as it sounds, local. It cannot be recalled here because it exists only in our LOCAL environment (i.e., in the realm of our function) "
   ]
  },
  {
   "cell_type": "code",
   "execution_count": 4,
   "metadata": {},
   "outputs": [
    {
     "ename": "NameError",
     "evalue": "name 'local_variable' is not defined",
     "output_type": "error",
     "traceback": [
      "\u001b[0;31m---------------------------------------------------------------------------\u001b[0m",
      "\u001b[0;31mNameError\u001b[0m                                 Traceback (most recent call last)",
      "\u001b[0;32m<ipython-input-4-ffb5b39c1381>\u001b[0m in \u001b[0;36m<module>\u001b[0;34m()\u001b[0m\n\u001b[0;32m----> 1\u001b[0;31m \u001b[0mlocal_variable\u001b[0m\u001b[0;34m\u001b[0m\u001b[0m\n\u001b[0m",
      "\u001b[0;31mNameError\u001b[0m: name 'local_variable' is not defined"
     ]
    }
   ],
   "source": [
    "local_variable"
   ]
  },
  {
   "cell_type": "code",
   "execution_count": 197,
   "metadata": {},
   "outputs": [],
   "source": [
    "local_variable = 'egg is our argument'"
   ]
  },
  {
   "cell_type": "code",
   "execution_count": 200,
   "metadata": {},
   "outputs": [
    {
     "data": {
      "text/plain": [
       "'egg is our argument'"
      ]
     },
     "execution_count": 200,
     "metadata": {},
     "output_type": "execute_result"
    }
   ],
   "source": [
    "local_variable"
   ]
  },
  {
   "cell_type": "markdown",
   "metadata": {},
   "source": [
    "From here on I'm going to try and work with functions that I think relevant. They may increase quickly in complexity, but you'll find that you could actually use most of these in your work. "
   ]
  },
  {
   "cell_type": "markdown",
   "metadata": {},
   "source": [
    "## Today's Datasets"
   ]
  },
  {
   "cell_type": "markdown",
   "metadata": {},
   "source": [
    "Today we're going to be working with the data set I've simulated below. Let's assume that this is survey data recorded from 100 different towns. In this survey we asked people \"If you had in front of you pizza, a bowl of fruit, fried chicken, and a lamb leg, which type of foods would you eat?\" They were allowed to choose as many or as few as they liked. The numbers are reported as percentages."
   ]
  },
  {
   "cell_type": "code",
   "execution_count": 4,
   "metadata": {},
   "outputs": [
    {
     "data": {
      "text/html": [
       "<div>\n",
       "<style scoped>\n",
       "    .dataframe tbody tr th:only-of-type {\n",
       "        vertical-align: middle;\n",
       "    }\n",
       "\n",
       "    .dataframe tbody tr th {\n",
       "        vertical-align: top;\n",
       "    }\n",
       "\n",
       "    .dataframe thead th {\n",
       "        text-align: right;\n",
       "    }\n",
       "</style>\n",
       "<table border=\"1\" class=\"dataframe\">\n",
       "  <thead>\n",
       "    <tr style=\"text-align: right;\">\n",
       "      <th></th>\n",
       "      <th>pizza</th>\n",
       "      <th>fruit</th>\n",
       "      <th>chicken</th>\n",
       "      <th>lamb</th>\n",
       "    </tr>\n",
       "  </thead>\n",
       "  <tbody>\n",
       "    <tr>\n",
       "      <th>0</th>\n",
       "      <td>46</td>\n",
       "      <td>89</td>\n",
       "      <td>47</td>\n",
       "      <td>60</td>\n",
       "    </tr>\n",
       "    <tr>\n",
       "      <th>1</th>\n",
       "      <td>25</td>\n",
       "      <td>92</td>\n",
       "      <td>28</td>\n",
       "      <td>30</td>\n",
       "    </tr>\n",
       "    <tr>\n",
       "      <th>2</th>\n",
       "      <td>64</td>\n",
       "      <td>8</td>\n",
       "      <td>78</td>\n",
       "      <td>3</td>\n",
       "    </tr>\n",
       "    <tr>\n",
       "      <th>3</th>\n",
       "      <td>85</td>\n",
       "      <td>35</td>\n",
       "      <td>52</td>\n",
       "      <td>46</td>\n",
       "    </tr>\n",
       "    <tr>\n",
       "      <th>4</th>\n",
       "      <td>10</td>\n",
       "      <td>10</td>\n",
       "      <td>95</td>\n",
       "      <td>37</td>\n",
       "    </tr>\n",
       "  </tbody>\n",
       "</table>\n",
       "</div>"
      ],
      "text/plain": [
       "   pizza  fruit  chicken  lamb\n",
       "0     46     89       47    60\n",
       "1     25     92       28    30\n",
       "2     64      8       78     3\n",
       "3     85     35       52    46\n",
       "4     10     10       95    37"
      ]
     },
     "execution_count": 4,
     "metadata": {},
     "output_type": "execute_result"
    }
   ],
   "source": [
    "favfoods = pd.DataFrame(np.random.randint(0, 100, size = (100, 4)), columns=['pizza', 'fruit', 'chicken', 'lamb'])\n",
    "\n",
    "favfoods.head()\n"
   ]
  },
  {
   "cell_type": "markdown",
   "metadata": {},
   "source": [
    "We're also going to look at the 'Let It Be' lyrics you guys worked with last class."
   ]
  },
  {
   "cell_type": "code",
   "execution_count": 4,
   "metadata": {},
   "outputs": [],
   "source": [
    "lyrics = \"\"\"When I find myself in times of trouble, Mother Mary comes to me\n",
    "Speaking words of wisdom, let it be\n",
    "And in my hour of darkness she is standing right in front of me\n",
    "Speaking words of wisdom, let it be\n",
    "Let it be, let it be, let it be, let it be\n",
    "Whisper words of wisdom, let it be\n",
    "And when the broken hearted people living in the world agree\n",
    "There will be an answer, let it be\n",
    "For though they may be parted, there is still a chance that they will see\n",
    "There will be an answer, let it be\n",
    "Let it be, let it be, let it be, let it be\n",
    "There will be an answer, let it be\n",
    "Let it be, let it be, let it be, let it be\n",
    "Whisper words of wisdom, let it be\n",
    "Let it be, let it be, let it be, let it be\n",
    "Whisper words of wisdom, let it be\n",
    "And when the night is cloudy there is still a light that shines on me\n",
    "Shine until tomorrow, let it be\n",
    "I wake up to the sound of music, Mother Mary comes to me\n",
    "Speaking words of wisdom, let it be\n",
    "Let it be, let it be, let it be, yeah, let it be\n",
    "There will be an answer, let it be\n",
    "Let it be, let it be, let it be, yeah, let it be\n",
    "Whisper words of wisdom, let it be\n",
    "\"\"\""
   ]
  },
  {
   "cell_type": "markdown",
   "metadata": {},
   "source": [
    "### Dummy Variables and the Return Keyword"
   ]
  },
  {
   "cell_type": "markdown",
   "metadata": {},
   "source": [
    "**return** is going to –– wait for it –– return the function's value. Why should we use **return**? The **return** keyword lets you return values from functions. If we instead were to use **print()**, we'd find that whatever variable we assigned the application of our function to would be of the 'NoneType'. 'NoneType,' as it sounds, is a 'None' object's type, where a 'None' object indicates **no value**. 'None' is the value returned from functions that don't return ***anything***. Thus we'd like to avoid creating 'NoneTypes,' as they don't add much in the form of value."
   ]
  },
  {
   "cell_type": "code",
   "execution_count": 138,
   "metadata": {},
   "outputs": [],
   "source": [
    "def dummy_conv(data, column, thresh):\n",
    "    \"\"\"Returns a dummy variable for a specified column\n",
    "    and threshold\"\"\"\n",
    "    \n",
    "    conv_dummy = [] # Empty list operating as our dummy variable\n",
    "    dummy_name = column + '_dummy'\n",
    "    \n",
    "    for perc in data[column]: # Indexing dataset\n",
    "        if perc > thresh:\n",
    "            conv_dummy.append(1) # Adding one to the list\n",
    "        else:\n",
    "            conv_dummy.append(0) # Adding zero to the list\n",
    "    conv_dummy = pd.DataFrame({dummy_name:conv_dummy})\n",
    "    data = pd.concat([data, conv_dummy], axis = 1) # Adding dummy to\n",
    "                                                   # the column\n",
    "    return data"
   ]
  },
  {
   "cell_type": "markdown",
   "metadata": {},
   "source": [
    "A few things here. First, this function takes multiple arguments. That's good. It makes our function more versatile and more dynamic. Second, this function uses an **if-else** statement. From the looks of the class content, you guys have already covered conditional statements. But just as a refresher: If you've ever taken a course in logic or real analysis, though, you're probably already familiar with **if-then** statements. That's the first part of our function: **if** the percentage is above our given threshold, **then** this town is pizza happy –– **else** (as in it is not), this town is *not* pizza happy. Third, check out the final part of our function. Our list is renamed 'conv_dummy' and converted to a dataframe. Now we're returned a value that we can potentially add to our dataframe.\n",
    "\n",
    "***Note*** that Pandas' get_dummies function comes in handy when dealing with categorical variables."
   ]
  },
  {
   "cell_type": "code",
   "execution_count": 139,
   "metadata": {},
   "outputs": [
    {
     "data": {
      "text/html": [
       "<div>\n",
       "<style scoped>\n",
       "    .dataframe tbody tr th:only-of-type {\n",
       "        vertical-align: middle;\n",
       "    }\n",
       "\n",
       "    .dataframe tbody tr th {\n",
       "        vertical-align: top;\n",
       "    }\n",
       "\n",
       "    .dataframe thead th {\n",
       "        text-align: right;\n",
       "    }\n",
       "</style>\n",
       "<table border=\"1\" class=\"dataframe\">\n",
       "  <thead>\n",
       "    <tr style=\"text-align: right;\">\n",
       "      <th></th>\n",
       "      <th>pizza</th>\n",
       "      <th>fruit</th>\n",
       "      <th>chicken</th>\n",
       "      <th>lamb</th>\n",
       "      <th>pizza_dummy</th>\n",
       "    </tr>\n",
       "  </thead>\n",
       "  <tbody>\n",
       "    <tr>\n",
       "      <th>0</th>\n",
       "      <td>21</td>\n",
       "      <td>10</td>\n",
       "      <td>54</td>\n",
       "      <td>92</td>\n",
       "      <td>0</td>\n",
       "    </tr>\n",
       "    <tr>\n",
       "      <th>1</th>\n",
       "      <td>9</td>\n",
       "      <td>73</td>\n",
       "      <td>60</td>\n",
       "      <td>26</td>\n",
       "      <td>0</td>\n",
       "    </tr>\n",
       "    <tr>\n",
       "      <th>2</th>\n",
       "      <td>69</td>\n",
       "      <td>9</td>\n",
       "      <td>83</td>\n",
       "      <td>85</td>\n",
       "      <td>1</td>\n",
       "    </tr>\n",
       "    <tr>\n",
       "      <th>3</th>\n",
       "      <td>11</td>\n",
       "      <td>47</td>\n",
       "      <td>66</td>\n",
       "      <td>61</td>\n",
       "      <td>0</td>\n",
       "    </tr>\n",
       "    <tr>\n",
       "      <th>4</th>\n",
       "      <td>88</td>\n",
       "      <td>20</td>\n",
       "      <td>26</td>\n",
       "      <td>53</td>\n",
       "      <td>1</td>\n",
       "    </tr>\n",
       "  </tbody>\n",
       "</table>\n",
       "</div>"
      ],
      "text/plain": [
       "   pizza  fruit  chicken  lamb  pizza_dummy\n",
       "0     21     10       54    92            0\n",
       "1      9     73       60    26            0\n",
       "2     69      9       83    85            1\n",
       "3     11     47       66    61            0\n",
       "4     88     20       26    53            1"
      ]
     },
     "execution_count": 139,
     "metadata": {},
     "output_type": "execute_result"
    }
   ],
   "source": [
    "pizza_happy = dummy_conv(favfoods, 'pizza', 50)\n",
    "pizza_happy.head()"
   ]
  },
  {
   "cell_type": "markdown",
   "metadata": {},
   "source": [
    "Here we see that our object is a **dataframe**"
   ]
  },
  {
   "cell_type": "code",
   "execution_count": 42,
   "metadata": {},
   "outputs": [
    {
     "data": {
      "text/plain": [
       "pandas.core.frame.DataFrame"
      ]
     },
     "execution_count": 42,
     "metadata": {},
     "output_type": "execute_result"
    }
   ],
   "source": [
    "type(pizza_happy) "
   ]
  },
  {
   "cell_type": "markdown",
   "metadata": {},
   "source": [
    "***Note***, though, what happens when we use the **print** function rather than the **return** keyword:"
   ]
  },
  {
   "cell_type": "code",
   "execution_count": 113,
   "metadata": {},
   "outputs": [],
   "source": [
    "def dummy_conv(data, column, thresh = 50):\n",
    "    \n",
    "    conv_dummy = [] # Empty list operating as our dummy variable\n",
    "    dummy_name = column + '_dummy'\n",
    "    \n",
    "    for perc in data[column]: # Indexing dataset\n",
    "        if perc > thresh:\n",
    "            conv_dummy.append(1) # Adding one to the list\n",
    "        else:\n",
    "            conv_dummy.append(0) # Adding zero to the list\n",
    "    conv_dummy = pd.DataFrame({dummy_name:conv_dummy})\n",
    "    data = pd.concat([data, conv_dummy], axis = 1) # Adding dummy to\n",
    "                                                   # the column\n",
    "    print(data)"
   ]
  },
  {
   "cell_type": "code",
   "execution_count": 114,
   "metadata": {},
   "outputs": [
    {
     "name": "stdout",
     "output_type": "stream",
     "text": [
      "    pizza  fruit  chicken  lamb  pizza_dummy\n",
      "0      63      6       61    15            1\n",
      "1      76     87       68    34            1\n",
      "2      43     31       37    82            0\n",
      "3      99     93       26     2            1\n",
      "4      90     45       91    48            1\n",
      "5      72     41       48    85            1\n",
      "6      84      9       94    82            1\n",
      "7      45     89       43    74            0\n",
      "8      40     47       70    32            0\n",
      "9      87     62       52    73            1\n",
      "10     64     56       67    89            1\n",
      "11     38     42       37     9            0\n",
      "12     19     51       67    85            0\n",
      "13     58     99       34    59            1\n",
      "14     47     49       25    46            0\n",
      "15     51      1       30    59            1\n",
      "16     77     54       40    66            1\n",
      "17     67     26       98    14            1\n",
      "18     19     12        8     7            0\n",
      "19     31     17        3    98            0\n",
      "20     91     32        5    15            1\n",
      "21     11     61       73    59            0\n",
      "22      0     94       87    26            0\n",
      "23      3     21       80     6            0\n",
      "24     78     98       72     3            1\n",
      "25     96     30       12     5            1\n",
      "26     90     77       89    37            1\n",
      "27     21     76        5    85            0\n",
      "28     96     59        2    54            1\n",
      "29     33     75        7     3            0\n",
      "..    ...    ...      ...   ...          ...\n",
      "70     26     36       91    45            0\n",
      "71     92     11       94    64            1\n",
      "72     86     74        2    39            1\n",
      "73     78      2       82    47            1\n",
      "74     36     81       47    60            0\n",
      "75     36     76       41    85            0\n",
      "76      9     78       26    50            0\n",
      "77     71     61       61    31            1\n",
      "78     19     15       23    25            0\n",
      "79     76     76       77    80            1\n",
      "80     50     36        4    98            0\n",
      "81     31     55       77    13            0\n",
      "82     81      3       74     0            1\n",
      "83     26     52       58    39            0\n",
      "84     77     16        1    75            1\n",
      "85     50     65       78    34            0\n",
      "86     19     54       21    52            0\n",
      "87     21     51       17    98            0\n",
      "88     75     49       11    13            1\n",
      "89     90     31       65     7            1\n",
      "90     66     52       73     2            1\n",
      "91     76     19       36    22            1\n",
      "92     41     16       17    13            0\n",
      "93     95     64        7    68            1\n",
      "94     21     76       35    26            0\n",
      "95     32     38       60    44            0\n",
      "96     21     63       22    33            0\n",
      "97     94     71       40     3            1\n",
      "98     10      1       80    54            0\n",
      "99     78     70       37    34            1\n",
      "\n",
      "[100 rows x 5 columns]\n"
     ]
    }
   ],
   "source": [
    "pizza_happy = dummy_conv(favfoods, 'pizza')"
   ]
  },
  {
   "cell_type": "code",
   "execution_count": 105,
   "metadata": {},
   "outputs": [
    {
     "data": {
      "text/plain": [
       "pandas.core.frame.DataFrame"
      ]
     },
     "execution_count": 105,
     "metadata": {},
     "output_type": "execute_result"
    }
   ],
   "source": [
    "type(pizza_happy)"
   ]
  },
  {
   "cell_type": "markdown",
   "metadata": {},
   "source": [
    "Behold the 'NoneType' –– a frightful beast. Also note the use of a ***default*** argument. Rather than have to input 50 as my 'thresh' argument above, the program simply took it for granted. You'll find that most functions you use have default arguments."
   ]
  },
  {
   "cell_type": "markdown",
   "metadata": {},
   "source": [
    "### Practice"
   ]
  },
  {
   "cell_type": "markdown",
   "metadata": {},
   "source": [
    "Real quick, let's create a FizzBuzz function using the current dataframe. We'll iterate over the 'pizza' column. \n",
    "\n",
    "If you remember the idea from the last class, it's if the number is divisible by 3, 'Fizz'; if it's divisible by 5, 'Buzz'; if it's divisible by both 3 and 5, 'FizzBuzz'; and if it's neither divisible by 3 or 5, print nothing."
   ]
  },
  {
   "cell_type": "code",
   "execution_count": null,
   "metadata": {},
   "outputs": [],
   "source": []
  },
  {
   "cell_type": "code",
   "execution_count": null,
   "metadata": {},
   "outputs": [],
   "source": []
  },
  {
   "cell_type": "code",
   "execution_count": null,
   "metadata": {},
   "outputs": [],
   "source": []
  },
  {
   "cell_type": "code",
   "execution_count": null,
   "metadata": {},
   "outputs": [],
   "source": []
  },
  {
   "cell_type": "code",
   "execution_count": null,
   "metadata": {},
   "outputs": [],
   "source": []
  },
  {
   "cell_type": "code",
   "execution_count": 205,
   "metadata": {},
   "outputs": [],
   "source": [
    "def fizzbuzz(data, col):\n",
    "    \"\"\"if the number is divisible by 3, return 'Fizz'; \n",
    "    if it's divisible by 5, return 'Buzz'; if it's \n",
    "    divisible by both 3 and 5, return 'FizzBuzz'; and \n",
    "    if it's neither divisible by 3 or 5, print nothing.\"\"\"\n",
    "    \n",
    "    col = data[col]\n",
    "    \n",
    "    for fig in col:\n",
    "        if fig % 3 == 0 and fig % 5 != 0:\n",
    "            print(\"Fizz\")\n",
    "        elif fig % 3 != 0 and fig % 5 == 0:\n",
    "            print(\"Buzz\")\n",
    "        elif fig % 3 == 0 and fig % 5 == 0:\n",
    "            print(\"FizzBuzz\")\n",
    "        else:\n",
    "            print(\"\")\n",
    "            \n",
    "    "
   ]
  },
  {
   "cell_type": "code",
   "execution_count": 206,
   "metadata": {},
   "outputs": [
    {
     "name": "stdout",
     "output_type": "stream",
     "text": [
      "Fizz\n",
      "Fizz\n",
      "Fizz\n",
      "\n",
      "\n",
      "\n",
      "\n",
      "Fizz\n",
      "Buzz\n",
      "Fizz\n",
      "Fizz\n",
      "Fizz\n",
      "FizzBuzz\n",
      "FizzBuzz\n",
      "Buzz\n",
      "FizzBuzz\n",
      "FizzBuzz\n",
      "Fizz\n",
      "\n",
      "\n",
      "\n",
      "\n",
      "Buzz\n",
      "\n",
      "Fizz\n",
      "Buzz\n",
      "\n",
      "\n",
      "\n",
      "Fizz\n",
      "\n",
      "\n",
      "Fizz\n",
      "Buzz\n",
      "Buzz\n",
      "\n",
      "Fizz\n",
      "Fizz\n",
      "Fizz\n",
      "\n",
      "\n",
      "\n",
      "\n",
      "\n",
      "\n",
      "Buzz\n",
      "FizzBuzz\n",
      "\n",
      "Fizz\n",
      "\n",
      "\n",
      "\n",
      "\n",
      "\n",
      "Fizz\n",
      "\n",
      "\n",
      "\n",
      "Fizz\n",
      "Fizz\n",
      "Fizz\n",
      "\n",
      "\n",
      "\n",
      "\n",
      "Fizz\n",
      "\n",
      "\n",
      "\n",
      "\n",
      "Buzz\n",
      "\n",
      "Fizz\n",
      "Fizz\n",
      "Buzz\n",
      "Fizz\n",
      "\n",
      "Fizz\n",
      "\n",
      "\n",
      "FizzBuzz\n",
      "\n",
      "\n",
      "\n",
      "Fizz\n",
      "FizzBuzz\n",
      "\n",
      "Buzz\n",
      "\n",
      "Fizz\n",
      "\n",
      "\n",
      "Fizz\n",
      "\n",
      "\n",
      "Buzz\n",
      "\n",
      "\n",
      "\n",
      "Buzz\n"
     ]
    }
   ],
   "source": [
    "fizzbuzz(favfoods, 'pizza')"
   ]
  },
  {
   "cell_type": "markdown",
   "metadata": {},
   "source": [
    "### Counting the Lyrics of 'Let It Be'"
   ]
  },
  {
   "cell_type": "markdown",
   "metadata": {},
   "source": [
    "I think you guys did something similar in the last class, but here I just figured we could write it as a function."
   ]
  },
  {
   "cell_type": "code",
   "execution_count": 123,
   "metadata": {},
   "outputs": [
    {
     "data": {
      "text/plain": [
       "list"
      ]
     },
     "execution_count": 123,
     "metadata": {},
     "output_type": "execute_result"
    }
   ],
   "source": [
    "import string\n"
   ]
  },
  {
   "cell_type": "code",
   "execution_count": 7,
   "metadata": {},
   "outputs": [
    {
     "data": {
      "text/plain": [
       "['when',\n",
       " 'i',\n",
       " 'find',\n",
       " 'myself',\n",
       " 'in',\n",
       " 'times',\n",
       " 'of',\n",
       " 'trouble',\n",
       " 'mother',\n",
       " 'mary',\n",
       " 'comes',\n",
       " 'to',\n",
       " 'me',\n",
       " 'speaking',\n",
       " 'words',\n",
       " 'of',\n",
       " 'wisdom',\n",
       " 'let',\n",
       " 'it',\n",
       " 'be',\n",
       " 'and',\n",
       " 'in',\n",
       " 'my',\n",
       " 'hour',\n",
       " 'of',\n",
       " 'darkness',\n",
       " 'she',\n",
       " 'is',\n",
       " 'standing',\n",
       " 'right',\n",
       " 'in',\n",
       " 'front',\n",
       " 'of',\n",
       " 'me',\n",
       " 'speaking',\n",
       " 'words',\n",
       " 'of',\n",
       " 'wisdom',\n",
       " 'let',\n",
       " 'it',\n",
       " 'be',\n",
       " 'let',\n",
       " 'it',\n",
       " 'be',\n",
       " 'let',\n",
       " 'it',\n",
       " 'be',\n",
       " 'let',\n",
       " 'it',\n",
       " 'be',\n",
       " 'let',\n",
       " 'it',\n",
       " 'be',\n",
       " 'whisper',\n",
       " 'words',\n",
       " 'of',\n",
       " 'wisdom',\n",
       " 'let',\n",
       " 'it',\n",
       " 'be',\n",
       " 'and',\n",
       " 'when',\n",
       " 'the',\n",
       " 'broken',\n",
       " 'hearted',\n",
       " 'people',\n",
       " 'living',\n",
       " 'in',\n",
       " 'the',\n",
       " 'world',\n",
       " 'agree',\n",
       " 'there',\n",
       " 'will',\n",
       " 'be',\n",
       " 'an',\n",
       " 'answer',\n",
       " 'let',\n",
       " 'it',\n",
       " 'be',\n",
       " 'for',\n",
       " 'though',\n",
       " 'they',\n",
       " 'may',\n",
       " 'be',\n",
       " 'parted',\n",
       " 'there',\n",
       " 'is',\n",
       " 'still',\n",
       " 'a',\n",
       " 'chance',\n",
       " 'that',\n",
       " 'they',\n",
       " 'will',\n",
       " 'see',\n",
       " 'there',\n",
       " 'will',\n",
       " 'be',\n",
       " 'an',\n",
       " 'answer',\n",
       " 'let',\n",
       " 'it',\n",
       " 'be',\n",
       " 'let',\n",
       " 'it',\n",
       " 'be',\n",
       " 'let',\n",
       " 'it',\n",
       " 'be',\n",
       " 'let',\n",
       " 'it',\n",
       " 'be',\n",
       " 'let',\n",
       " 'it',\n",
       " 'be',\n",
       " 'there',\n",
       " 'will',\n",
       " 'be',\n",
       " 'an',\n",
       " 'answer',\n",
       " 'let',\n",
       " 'it',\n",
       " 'be',\n",
       " 'let',\n",
       " 'it',\n",
       " 'be',\n",
       " 'let',\n",
       " 'it',\n",
       " 'be',\n",
       " 'let',\n",
       " 'it',\n",
       " 'be',\n",
       " 'let',\n",
       " 'it',\n",
       " 'be',\n",
       " 'whisper',\n",
       " 'words',\n",
       " 'of',\n",
       " 'wisdom',\n",
       " 'let',\n",
       " 'it',\n",
       " 'be',\n",
       " 'let',\n",
       " 'it',\n",
       " 'be',\n",
       " 'let',\n",
       " 'it',\n",
       " 'be',\n",
       " 'let',\n",
       " 'it',\n",
       " 'be',\n",
       " 'let',\n",
       " 'it',\n",
       " 'be',\n",
       " 'whisper',\n",
       " 'words',\n",
       " 'of',\n",
       " 'wisdom',\n",
       " 'let',\n",
       " 'it',\n",
       " 'be',\n",
       " 'and',\n",
       " 'when',\n",
       " 'the',\n",
       " 'night',\n",
       " 'is',\n",
       " 'cloudy',\n",
       " 'there',\n",
       " 'is',\n",
       " 'still',\n",
       " 'a',\n",
       " 'light',\n",
       " 'that',\n",
       " 'shines',\n",
       " 'on',\n",
       " 'me',\n",
       " 'shine',\n",
       " 'until',\n",
       " 'tomorrow',\n",
       " 'let',\n",
       " 'it',\n",
       " 'be',\n",
       " 'i',\n",
       " 'wake',\n",
       " 'up',\n",
       " 'to',\n",
       " 'the',\n",
       " 'sound',\n",
       " 'of',\n",
       " 'music',\n",
       " 'mother',\n",
       " 'mary',\n",
       " 'comes',\n",
       " 'to',\n",
       " 'me',\n",
       " 'speaking',\n",
       " 'words',\n",
       " 'of',\n",
       " 'wisdom',\n",
       " 'let',\n",
       " 'it',\n",
       " 'be',\n",
       " 'let',\n",
       " 'it',\n",
       " 'be',\n",
       " 'let',\n",
       " 'it',\n",
       " 'be',\n",
       " 'let',\n",
       " 'it',\n",
       " 'be',\n",
       " 'yeah',\n",
       " 'let',\n",
       " 'it',\n",
       " 'be',\n",
       " 'there',\n",
       " 'will',\n",
       " 'be',\n",
       " 'an',\n",
       " 'answer',\n",
       " 'let',\n",
       " 'it',\n",
       " 'be',\n",
       " 'let',\n",
       " 'it',\n",
       " 'be',\n",
       " 'let',\n",
       " 'it',\n",
       " 'be',\n",
       " 'let',\n",
       " 'it',\n",
       " 'be',\n",
       " 'yeah',\n",
       " 'let',\n",
       " 'it',\n",
       " 'be',\n",
       " 'whisper',\n",
       " 'words',\n",
       " 'of',\n",
       " 'wisdom',\n",
       " 'let',\n",
       " 'it',\n",
       " 'be']"
      ]
     },
     "execution_count": 7,
     "metadata": {},
     "output_type": "execute_result"
    }
   ],
   "source": [
    "lyrics = lyrics.lower().replace('\\n', ' ').replace(',', '').split(' ')\n",
    "lyrics.pop()\n",
    "lyrics"
   ]
  },
  {
   "cell_type": "markdown",
   "metadata": {},
   "source": [
    "'\\n' can be used within a string to start a ***new line***. And so here we **replace** a new line with a space, or ' '. We also, as you can see, replace a ',' with nothing, or ''. pop() removes the specified item in the list. Because we don't specify which element that is, it goes with the default (that being the final element in the list). Here, that would have just been ''."
   ]
  },
  {
   "cell_type": "code",
   "execution_count": 78,
   "metadata": {},
   "outputs": [],
   "source": [
    "def lyric_count(song):    \n",
    "    \"\"\"Prints a record of song lyrics by count\"\"\" # Describe what our function does\n",
    "    \n",
    "    lyric_record = {} # Initialize our empty dictionary\n",
    "\n",
    "    for word in song: # Iterating over every word in our list \n",
    "\n",
    "        if word in lyric_record.keys(): \n",
    "            lyric_record[word] += 1 # Add one to the count if the lyric is already recorded\n",
    "\n",
    "        else:\n",
    "            lyric_record[word] = 1 # Record the lyric as existing if there is no record already\n",
    "\n",
    "    # Print the populated dictionary\n",
    "    print(lyric_record)\n"
   ]
  },
  {
   "cell_type": "code",
   "execution_count": 127,
   "metadata": {},
   "outputs": [],
   "source": [
    "letitbe_count = lyric_count(lyrics)"
   ]
  },
  {
   "cell_type": "code",
   "execution_count": 128,
   "metadata": {},
   "outputs": [
    {
     "data": {
      "text/plain": [
       "{'when': 3,\n",
       " 'i': 2,\n",
       " 'find': 1,\n",
       " 'myself': 1,\n",
       " 'in': 4,\n",
       " 'times': 1,\n",
       " 'of': 11,\n",
       " 'trouble': 1,\n",
       " 'mother': 2,\n",
       " 'mary': 2,\n",
       " 'comes': 2,\n",
       " 'to': 3,\n",
       " 'me': 4,\n",
       " 'speaking': 3,\n",
       " 'words': 7,\n",
       " 'wisdom': 7,\n",
       " 'let': 36,\n",
       " 'it': 36,\n",
       " 'be': 41,\n",
       " 'and': 3,\n",
       " 'my': 1,\n",
       " 'hour': 1,\n",
       " 'darkness': 1,\n",
       " 'she': 1,\n",
       " 'is': 4,\n",
       " 'standing': 1,\n",
       " 'right': 1,\n",
       " 'front': 1,\n",
       " 'whisper': 4,\n",
       " 'the': 4,\n",
       " 'broken': 1,\n",
       " 'hearted': 1,\n",
       " 'people': 1,\n",
       " 'living': 1,\n",
       " 'world': 1,\n",
       " 'agree': 1,\n",
       " 'there': 6,\n",
       " 'will': 5,\n",
       " 'an': 4,\n",
       " 'answer': 4,\n",
       " 'for': 1,\n",
       " 'though': 1,\n",
       " 'they': 2,\n",
       " 'may': 1,\n",
       " 'parted': 1,\n",
       " 'still': 2,\n",
       " 'a': 2,\n",
       " 'chance': 1,\n",
       " 'that': 2,\n",
       " 'see': 1,\n",
       " 'night': 1,\n",
       " 'cloudy': 1,\n",
       " 'light': 1,\n",
       " 'shines': 1,\n",
       " 'on': 1,\n",
       " 'shine': 1,\n",
       " 'until': 1,\n",
       " 'tomorrow': 1,\n",
       " 'wake': 1,\n",
       " 'up': 1,\n",
       " 'sound': 1,\n",
       " 'music': 1,\n",
       " 'yeah': 2}"
      ]
     },
     "execution_count": 128,
     "metadata": {},
     "output_type": "execute_result"
    }
   ],
   "source": [
    "letitbe_count"
   ]
  },
  {
   "cell_type": "code",
   "execution_count": 84,
   "metadata": {},
   "outputs": [
    {
     "data": {
      "text/plain": [
       "NoneType"
      ]
     },
     "execution_count": 84,
     "metadata": {},
     "output_type": "execute_result"
    }
   ],
   "source": [
    "type(letitbe_count)"
   ]
  },
  {
   "cell_type": "markdown",
   "metadata": {},
   "source": [
    "### Quick Group Task"
   ]
  },
  {
   "cell_type": "markdown",
   "metadata": {},
   "source": [
    "Now what if rather than a printed report of the dictionary, I wanted my function to return a value that I could store in my letitbe_count variable? Something that I could work with later. What would I do? "
   ]
  },
  {
   "cell_type": "code",
   "execution_count": null,
   "metadata": {},
   "outputs": [],
   "source": []
  },
  {
   "cell_type": "code",
   "execution_count": null,
   "metadata": {},
   "outputs": [],
   "source": []
  },
  {
   "cell_type": "code",
   "execution_count": null,
   "metadata": {},
   "outputs": [],
   "source": []
  },
  {
   "cell_type": "code",
   "execution_count": null,
   "metadata": {},
   "outputs": [],
   "source": []
  },
  {
   "cell_type": "code",
   "execution_count": null,
   "metadata": {},
   "outputs": [],
   "source": []
  },
  {
   "cell_type": "code",
   "execution_count": null,
   "metadata": {},
   "outputs": [],
   "source": []
  },
  {
   "cell_type": "code",
   "execution_count": 5,
   "metadata": {},
   "outputs": [
    {
     "ename": "NameError",
     "evalue": "name 'lyrics' is not defined",
     "output_type": "error",
     "traceback": [
      "\u001b[0;31m---------------------------------------------------------------------------\u001b[0m",
      "\u001b[0;31mNameError\u001b[0m                                 Traceback (most recent call last)",
      "\u001b[0;32m<ipython-input-5-3a56fe370991>\u001b[0m in \u001b[0;36m<module>\u001b[0;34m()\u001b[0m\n\u001b[1;32m     16\u001b[0m \u001b[0;34m\u001b[0m\u001b[0m\n\u001b[1;32m     17\u001b[0m \u001b[0;34m\u001b[0m\u001b[0m\n\u001b[0;32m---> 18\u001b[0;31m \u001b[0mletitbe_count\u001b[0m \u001b[0;34m=\u001b[0m \u001b[0mlyric_count\u001b[0m\u001b[0;34m(\u001b[0m\u001b[0mlyrics\u001b[0m\u001b[0;34m)\u001b[0m\u001b[0;34m\u001b[0m\u001b[0m\n\u001b[0m\u001b[1;32m     19\u001b[0m \u001b[0;34m\u001b[0m\u001b[0m\n\u001b[1;32m     20\u001b[0m \u001b[0;31m# Printing the result\u001b[0m\u001b[0;34m\u001b[0m\u001b[0;34m\u001b[0m\u001b[0m\n",
      "\u001b[0;31mNameError\u001b[0m: name 'lyrics' is not defined"
     ]
    }
   ],
   "source": [
    "def lyric_count(song):    \n",
    "    \"\"\"Prints a record of song lyrics by count\"\"\" # Describe what our function does\n",
    "    \n",
    "    lyric_record = {} # Initialize our empty dictionary\n",
    "\n",
    "    for word in song: # Iterating over every word in our list \n",
    "\n",
    "        if word in lyric_record.keys(): \n",
    "            lyric_record[word] += 1 # Add one to the count if the lyric is already recorded\n",
    "\n",
    "        else:\n",
    "            lyric_record[word] = 1 # Record the lyric as existing if there is no record already\n",
    "\n",
    "    # Print the populated dictionary\n",
    "    return lyric_record\n",
    "\n",
    "\n",
    "letitbe_count = lyric_count(lyrics)\n",
    "\n",
    "# Printing the result\n",
    "print(letitbe_count)"
   ]
  },
  {
   "cell_type": "code",
   "execution_count": 74,
   "metadata": {},
   "outputs": [
    {
     "data": {
      "text/plain": [
       "dict"
      ]
     },
     "execution_count": 74,
     "metadata": {},
     "output_type": "execute_result"
    }
   ],
   "source": [
    "type(letitbe_count)"
   ]
  },
  {
   "cell_type": "markdown",
   "metadata": {},
   "source": [
    "## Lambda Functions"
   ]
  },
  {
   "cell_type": "markdown",
   "metadata": {},
   "source": [
    "**Lambda functions** are quick and dirty ways of writing quick, simple functions. In this example we're going to use the **filter()** function, which allows us to ***filter*** out words of our lyric list that don't satisfy our 'pizza happy' criteria. "
   ]
  },
  {
   "cell_type": "code",
   "execution_count": 112,
   "metadata": {},
   "outputs": [
    {
     "data": {
      "text/plain": [
       "0      True\n",
       "1      True\n",
       "2     False\n",
       "3      True\n",
       "4      True\n",
       "5      True\n",
       "6      True\n",
       "7     False\n",
       "8     False\n",
       "9      True\n",
       "10     True\n",
       "11    False\n",
       "12    False\n",
       "13     True\n",
       "14    False\n",
       "15     True\n",
       "16     True\n",
       "17     True\n",
       "18    False\n",
       "19    False\n",
       "20     True\n",
       "21    False\n",
       "22    False\n",
       "23    False\n",
       "24     True\n",
       "25     True\n",
       "26     True\n",
       "27    False\n",
       "28     True\n",
       "29    False\n",
       "      ...  \n",
       "70    False\n",
       "71     True\n",
       "72     True\n",
       "73     True\n",
       "74    False\n",
       "75    False\n",
       "76    False\n",
       "77     True\n",
       "78    False\n",
       "79     True\n",
       "80     True\n",
       "81    False\n",
       "82     True\n",
       "83    False\n",
       "84     True\n",
       "85     True\n",
       "86    False\n",
       "87    False\n",
       "88     True\n",
       "89     True\n",
       "90     True\n",
       "91     True\n",
       "92    False\n",
       "93     True\n",
       "94    False\n",
       "95    False\n",
       "96    False\n",
       "97     True\n",
       "98    False\n",
       "99     True\n",
       "Name: pizza, Length: 100, dtype: bool"
      ]
     },
     "execution_count": 112,
     "metadata": {},
     "output_type": "execute_result"
    }
   ],
   "source": [
    "quick_fn = (lambda data, col: data[col] >= 50)\n",
    "\n",
    "pizza_happy = quick_fn(pizza_happy, 'pizza')\n",
    "pizza_happy"
   ]
  },
  {
   "cell_type": "markdown",
   "metadata": {},
   "source": [
    "### Practice"
   ]
  },
  {
   "cell_type": "markdown",
   "metadata": {},
   "source": [
    "Let's try and write a variation of our dummy variable function from before with a lambda function. Same idea (three arguments), but now we'll be able to do it all in one line."
   ]
  },
  {
   "cell_type": "code",
   "execution_count": null,
   "metadata": {},
   "outputs": [],
   "source": []
  },
  {
   "cell_type": "code",
   "execution_count": null,
   "metadata": {},
   "outputs": [],
   "source": []
  },
  {
   "cell_type": "code",
   "execution_count": null,
   "metadata": {},
   "outputs": [],
   "source": []
  },
  {
   "cell_type": "code",
   "execution_count": null,
   "metadata": {},
   "outputs": [],
   "source": []
  },
  {
   "cell_type": "code",
   "execution_count": null,
   "metadata": {},
   "outputs": [],
   "source": []
  },
  {
   "cell_type": "code",
   "execution_count": null,
   "metadata": {},
   "outputs": [],
   "source": []
  },
  {
   "cell_type": "code",
   "execution_count": null,
   "metadata": {},
   "outputs": [],
   "source": [
    "quick_dummy = (lambda data, col, thresh: data[col] >= thresh)\n",
    "\n",
    "pizza_happy = quick_dummy(favfoods, 'pizza', 50)\n",
    "pizza_happy\n",
    "\n"
   ]
  },
  {
   "cell_type": "markdown",
   "metadata": {},
   "source": [
    "## Try and Except and Error Handling"
   ]
  },
  {
   "cell_type": "code",
   "execution_count": 9,
   "metadata": {},
   "outputs": [],
   "source": [
    "# Define count_entries()\n",
    "def lyric_count(song = lyrics):    \n",
    "    \"\"\"Prints a record of song lyrics by count\"\"\" # Describe what our function does\n",
    "    \n",
    "    lyric_record = {} # Initialize our empty dictionary\n",
    "    \n",
    "    # Initialize EXCEPTION handling with try-except verbage\n",
    "    try:\n",
    "        for word in song: # Iterating over every word in our list \n",
    "\n",
    "            if word in lyric_record.keys(): \n",
    "                lyric_record[word] += 1 # Add one to the count if the lyric is already recorded\n",
    "\n",
    "            else:\n",
    "                lyric_record[word] = 1 # Record the lyric as existing if there is no record already\n",
    "\n",
    "        # Print the populated dictionary\n",
    "        return lyric_record\n",
    "    # Add except block\n",
    "    except:\n",
    "        print('Cannot compute –– variable is not iterable.')"
   ]
  },
  {
   "cell_type": "code",
   "execution_count": 129,
   "metadata": {},
   "outputs": [
    {
     "name": "stdout",
     "output_type": "stream",
     "text": [
      "{'when': 3, 'i': 2, 'find': 1, 'myself': 1, 'in': 4, 'times': 1, 'of': 11, 'trouble': 1, 'mother': 2, 'mary': 2, 'comes': 2, 'to': 3, 'me': 4, 'speaking': 3, 'words': 7, 'wisdom': 7, 'let': 36, 'it': 36, 'be': 41, 'and': 3, 'my': 1, 'hour': 1, 'darkness': 1, 'she': 1, 'is': 4, 'standing': 1, 'right': 1, 'front': 1, 'whisper': 4, 'the': 4, 'broken': 1, 'hearted': 1, 'people': 1, 'living': 1, 'world': 1, 'agree': 1, 'there': 6, 'will': 5, 'an': 4, 'answer': 4, 'for': 1, 'though': 1, 'they': 2, 'may': 1, 'parted': 1, 'still': 2, 'a': 2, 'chance': 1, 'that': 2, 'see': 1, 'night': 1, 'cloudy': 1, 'light': 1, 'shines': 1, 'on': 1, 'shine': 1, 'until': 1, 'tomorrow': 1, 'wake': 1, 'up': 1, 'sound': 1, 'music': 1, 'yeah': 2}\n"
     ]
    }
   ],
   "source": [
    "letitbe_count1 = lyric_count(lyrics)\n",
    "\n",
    "# Printing the result\n",
    "print(letitbe_count1)"
   ]
  },
  {
   "cell_type": "code",
   "execution_count": 10,
   "metadata": {},
   "outputs": [
    {
     "data": {
      "text/plain": [
       "{'when': 3,\n",
       " 'i': 2,\n",
       " 'find': 1,\n",
       " 'myself': 1,\n",
       " 'in': 4,\n",
       " 'times': 1,\n",
       " 'of': 11,\n",
       " 'trouble': 1,\n",
       " 'mother': 2,\n",
       " 'mary': 2,\n",
       " 'comes': 2,\n",
       " 'to': 3,\n",
       " 'me': 4,\n",
       " 'speaking': 3,\n",
       " 'words': 7,\n",
       " 'wisdom': 7,\n",
       " 'let': 36,\n",
       " 'it': 36,\n",
       " 'be': 41,\n",
       " 'and': 3,\n",
       " 'my': 1,\n",
       " 'hour': 1,\n",
       " 'darkness': 1,\n",
       " 'she': 1,\n",
       " 'is': 4,\n",
       " 'standing': 1,\n",
       " 'right': 1,\n",
       " 'front': 1,\n",
       " 'whisper': 4,\n",
       " 'the': 4,\n",
       " 'broken': 1,\n",
       " 'hearted': 1,\n",
       " 'people': 1,\n",
       " 'living': 1,\n",
       " 'world': 1,\n",
       " 'agree': 1,\n",
       " 'there': 6,\n",
       " 'will': 5,\n",
       " 'an': 4,\n",
       " 'answer': 4,\n",
       " 'for': 1,\n",
       " 'though': 1,\n",
       " 'they': 2,\n",
       " 'may': 1,\n",
       " 'parted': 1,\n",
       " 'still': 2,\n",
       " 'a': 2,\n",
       " 'chance': 1,\n",
       " 'that': 2,\n",
       " 'see': 1,\n",
       " 'night': 1,\n",
       " 'cloudy': 1,\n",
       " 'light': 1,\n",
       " 'shines': 1,\n",
       " 'on': 1,\n",
       " 'shine': 1,\n",
       " 'until': 1,\n",
       " 'tomorrow': 1,\n",
       " 'wake': 1,\n",
       " 'up': 1,\n",
       " 'sound': 1,\n",
       " 'music': 1,\n",
       " 'yeah': 2}"
      ]
     },
     "execution_count": 10,
     "metadata": {},
     "output_type": "execute_result"
    }
   ],
   "source": [
    "lyric_count()"
   ]
  },
  {
   "cell_type": "markdown",
   "metadata": {},
   "source": [
    "#### Except Function"
   ]
  },
  {
   "cell_type": "code",
   "execution_count": 11,
   "metadata": {},
   "outputs": [
    {
     "name": "stdout",
     "output_type": "stream",
     "text": [
      "Cannot compute –– variable is not iterable.\n"
     ]
    }
   ],
   "source": [
    "flatironzip = 10010\n",
    "\n",
    "lyric_count(flatironzip)"
   ]
  },
  {
   "cell_type": "markdown",
   "metadata": {},
   "source": [
    "## The ***args and ****kwargs flexible arguments"
   ]
  },
  {
   "cell_type": "markdown",
   "metadata": {},
   "source": [
    "### *args flexible argument"
   ]
  },
  {
   "cell_type": "markdown",
   "metadata": {},
   "source": [
    "**args* allows you to pass a variable number of arguments to a function, turning whatever the input into a tuple. This allows for flexibility. You can then slice this tuple to access its different values."
   ]
  },
  {
   "cell_type": "markdown",
   "metadata": {},
   "source": [
    "Here we write a function that acts as a product. I.e., every argument is multiplied by every argument that follows. \n",
    "\n",
    "***Note***: in class I called the product a \"Cartesian product.\" That's my bad. A Cartesian product is the product of two sets, whereas this is just the product of two numbers. The thought remains the same, though: a summation is to addition as a product is to multiplication."
   ]
  },
  {
   "cell_type": "code",
   "execution_count": 9,
   "metadata": {},
   "outputs": [],
   "source": [
    "def product(*args):\n",
    "    \"\"\"Multiply all *args values by one another.\"\"\"\n",
    "    \n",
    "    prod = 1 # Initializing our product\n",
    "    \n",
    "    # Iterating over all of our arguments\n",
    "    \n",
    "    for num in args:\n",
    "        prod *= num\n",
    "        \n",
    "    return prod"
   ]
  },
  {
   "cell_type": "code",
   "execution_count": 10,
   "metadata": {},
   "outputs": [
    {
     "data": {
      "text/plain": [
       "30"
      ]
     },
     "execution_count": 10,
     "metadata": {},
     "output_type": "execute_result"
    }
   ],
   "source": [
    "product(2, 3, 5)"
   ]
  },
  {
   "cell_type": "markdown",
   "metadata": {},
   "source": [
    "***Note***:\n",
    "\n",
    "    a *= b is equivalent to a = a * b"
   ]
  },
  {
   "cell_type": "markdown",
   "metadata": {},
   "source": [
    "## Practice"
   ]
  },
  {
   "cell_type": "markdown",
   "metadata": {},
   "source": [
    "Same idea, except this time write the function as a summation."
   ]
  },
  {
   "cell_type": "code",
   "execution_count": null,
   "metadata": {},
   "outputs": [],
   "source": []
  },
  {
   "cell_type": "code",
   "execution_count": null,
   "metadata": {},
   "outputs": [],
   "source": []
  },
  {
   "cell_type": "code",
   "execution_count": null,
   "metadata": {},
   "outputs": [],
   "source": []
  },
  {
   "cell_type": "code",
   "execution_count": null,
   "metadata": {},
   "outputs": [],
   "source": []
  },
  {
   "cell_type": "code",
   "execution_count": null,
   "metadata": {},
   "outputs": [],
   "source": []
  },
  {
   "cell_type": "code",
   "execution_count": 13,
   "metadata": {},
   "outputs": [],
   "source": [
    "def summation(*args):\n",
    "    \"\"\"Multiply all *args values by one another.\"\"\"\n",
    "    \n",
    "    sum1 = 0 # Initializing our product\n",
    "    \n",
    "    # Iterating over all of our arguments\n",
    "    \n",
    "    for num in args:\n",
    "        sum1 += num\n",
    "        \n",
    "    return sum1"
   ]
  },
  {
   "cell_type": "code",
   "execution_count": 14,
   "metadata": {},
   "outputs": [
    {
     "data": {
      "text/plain": [
       "10"
      ]
     },
     "execution_count": 14,
     "metadata": {},
     "output_type": "execute_result"
    }
   ],
   "source": [
    "summation(2, 3, 5)"
   ]
  },
  {
   "cell_type": "markdown",
   "metadata": {},
   "source": [
    "### **kwargs flexible argument"
   ]
  },
  {
   "cell_type": "markdown",
   "metadata": {},
   "source": [
    "**kwargs allows us to handle NAMED arguments that have not been defined in advance. It converts the identifier key-value pairs into a dictionary within the function body."
   ]
  },
  {
   "cell_type": "code",
   "execution_count": 161,
   "metadata": {},
   "outputs": [],
   "source": [
    "def daily_task(**kwargs):\n",
    "    \"\"\"Use the key-value pairs we pass through using **kwargs and print results.\"\"\"\n",
    "    \n",
    "    for dictkey, dictval in kwargs.items():\n",
    "        print(dictkey + ': ' + dictval)"
   ]
  },
  {
   "cell_type": "markdown",
   "metadata": {},
   "source": [
    "The .items() method returns a list of tuple pairs."
   ]
  },
  {
   "cell_type": "code",
   "execution_count": 162,
   "metadata": {},
   "outputs": [
    {
     "name": "stdout",
     "output_type": "stream",
     "text": [
      "day2: Data Science Basics\n",
      "day3: Conditional Logic, Visualization\n",
      "day4: Visualization, Functions\n"
     ]
    }
   ],
   "source": [
    "daily_task(day2 = 'Data Science Basics', day3 = 'Conditional Logic, Visualization', day4 = 'Visualization, Functions')"
   ]
  },
  {
   "cell_type": "code",
   "execution_count": null,
   "metadata": {},
   "outputs": [],
   "source": []
  }
 ],
 "metadata": {
  "kernelspec": {
   "display_name": "Python 3",
   "language": "python",
   "name": "python3"
  },
  "language_info": {
   "codemirror_mode": {
    "name": "ipython",
    "version": 3
   },
   "file_extension": ".py",
   "mimetype": "text/x-python",
   "name": "python",
   "nbconvert_exporter": "python",
   "pygments_lexer": "ipython3",
   "version": "3.6.6"
  }
 },
 "nbformat": 4,
 "nbformat_minor": 2
}
